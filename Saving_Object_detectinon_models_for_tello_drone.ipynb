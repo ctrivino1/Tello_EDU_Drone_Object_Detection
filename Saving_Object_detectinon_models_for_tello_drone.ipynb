{
  "nbformat": 4,
  "nbformat_minor": 0,
  "metadata": {
    "colab": {
      "private_outputs": true,
      "provenance": [],
      "name": "Saving_Object_detectinon_models.ipynb",
      "authorship_tag": "ABX9TyPrAjHNDk5HuegCR4dB3MFg",
      "include_colab_link": true
    },
    "kernelspec": {
      "name": "python3",
      "display_name": "Python 3"
    },
    "language_info": {
      "name": "python"
    }
  },
  "cells": [
    {
      "cell_type": "markdown",
      "metadata": {
        "id": "view-in-github",
        "colab_type": "text"
      },
      "source": [
        "<a href=\"https://colab.research.google.com/github/ctrivino1/Tello_object_detection/blob/main/Saving_Object_detectinon_models_for_tello_drone.ipynb\" target=\"_parent\"><img src=\"https://colab.research.google.com/assets/colab-badge.svg\" alt=\"Open In Colab\"/></a>"
      ]
    },
    {
      "cell_type": "code",
      "source": [
        "import tensorflow as tf\n",
        "import shutil\n",
        "from google.colab import files\n",
        "\n",
        "!git clone --depth 1 https://github.com/tensorflow/models\n",
        "%cd models/research/object_detection\n",
        "\n",
        "# Downloading the model checkpoint and label map file\n",
        "!wget http://download.tensorflow.org/models/object_detection/tf2/20200711/faster_rcnn_resnet50_v1_640x640_coco17_tpu-8.tar.gz\n",
        "!tar -xvf faster_rcnn_resnet50_v1_640x640_coco17_tpu-8.tar.gz\n",
        "!cp data/mscoco_label_map.pbtxt faster_rcnn_resnet50_v1_640x640_coco17_tpu-8/\n",
        "\n",
        "# Loading the saved model\n",
        "model_path = 'faster_rcnn_resnet50_v1_640x640_coco17_tpu-8/saved_model'\n",
        "model = tf.saved_model.load(model_path)\n",
        "\n",
        "# Saving the model checkpoint and label map file to Google Drive\n",
        "model_name = 'faster_rcnn_resnet50_v1_640x640_coco17_tpu-8'\n",
        "tf.saved_model.save(model, '/content/drive/MyDrive/' + model_name)\n",
        "shutil.copy2('data/mscoco_label_map.pbtxt', '/content/drive/MyDrive/' + model_name)\n",
        "\n",
        "# Zipping the model checkpoint and label map file and downloading\n",
        "shutil.make_archive(model_name, 'zip', '/content/drive/MyDrive/' + model_name)\n",
        "files.download(model_name + '.zip')\n"
      ],
      "metadata": {
        "id": "_xpyzWrhB0Oq"
      },
      "execution_count": null,
      "outputs": []
    }
  ]
}